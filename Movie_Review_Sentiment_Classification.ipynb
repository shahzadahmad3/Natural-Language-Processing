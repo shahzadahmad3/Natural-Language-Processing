{
  "nbformat": 4,
  "nbformat_minor": 0,
  "metadata": {
    "colab": {
      "provenance": [],
      "authorship_tag": "ABX9TyMwzTXan+zd7412gNPjQtH4",
      "include_colab_link": true
    },
    "kernelspec": {
      "name": "python3",
      "display_name": "Python 3"
    },
    "language_info": {
      "name": "python"
    }
  },
  "cells": [
    {
      "cell_type": "markdown",
      "metadata": {
        "id": "view-in-github",
        "colab_type": "text"
      },
      "source": [
        "<a href=\"https://colab.research.google.com/github/shahzadahmad3/Natural-Language-Processing/blob/main/Movie_Review_Sentiment_Classification.ipynb\" target=\"_parent\"><img src=\"https://colab.research.google.com/assets/colab-badge.svg\" alt=\"Open In Colab\"/></a>"
      ]
    },
    {
      "cell_type": "markdown",
      "source": [
        "**Movie Review Sentiment Classification**\n",
        "\n",
        "**Goal:** Classify movie reviews as either positive or negative based on their text content.\n",
        "\n",
        "**Dataset:** We'll use the IMDb movie reviews dataset, which contains labeled reviews.\n",
        "\n",
        "**Challenge:** Handling text preprocessing, feature extraction, and model selection for optimal accuracy."
      ],
      "metadata": {
        "id": "cmyu-uj_3sTh"
      }
    },
    {
      "cell_type": "code",
      "execution_count": 12,
      "metadata": {
        "colab": {
          "base_uri": "https://localhost:8080/"
        },
        "id": "WJg7v3F43rTh",
        "outputId": "471e472f-a03e-4576-9186-83e95ed91e95"
      },
      "outputs": [
        {
          "output_type": "stream",
          "name": "stderr",
          "text": [
            "[nltk_data] Downloading package movie_reviews to /root/nltk_data...\n",
            "[nltk_data]   Package movie_reviews is already up-to-date!\n"
          ]
        }
      ],
      "source": [
        "import nltk\n",
        "from nltk.corpus import movie_reviews\n",
        "import random\n",
        "\n",
        "nltk.download('movie_reviews')\n",
        "\n",
        "# Load dataset\n",
        "documents = [(list(movie_reviews.words(fileid)), category)\n",
        "             for category in movie_reviews.categories()\n",
        "             for fileid in movie_reviews.fileids(category)]\n",
        "# Shuffle data for randomness\n",
        "random.shuffle(documents)"
      ]
    },
    {
      "cell_type": "code",
      "source": [
        "# Step 1:Data Preprocessing\n",
        "# We'll clean, tokenize, and vectorize the text data.\n",
        "from nltk.corpus import stopwords\n",
        "import string\n",
        "\n",
        "nltk.download('punkt_tab')\n",
        "nltk.download('stopwords')\n",
        "# # Define stopwords and punctuations\n",
        "# stop_words = set(stopwords.words('english'))\n",
        "# punctuations = set(string.punctuation)\n",
        "\n",
        "def preprocessing(text):\n",
        "  filtered_text=[word.lower() for word in text if word.lower() not in stopwords.words('english')]\n",
        "  processed_text=[word.lower() for word in filtered_text if word not in string.punctuation]\n",
        "  return processed_text # Added return statement to return the processed text\n",
        "\n",
        "# Apply preprocessing\n",
        "processed_documents=[(preprocessing(words), category) for words, category in documents]\n"
      ],
      "metadata": {
        "colab": {
          "base_uri": "https://localhost:8080/"
        },
        "id": "72RQrtcN41ML",
        "outputId": "c14a77d6-1207-4f37-cded-ce816ee95af4"
      },
      "execution_count": 13,
      "outputs": [
        {
          "output_type": "stream",
          "name": "stderr",
          "text": [
            "[nltk_data] Downloading package punkt_tab to /root/nltk_data...\n",
            "[nltk_data]   Package punkt_tab is already up-to-date!\n",
            "[nltk_data] Downloading package stopwords to /root/nltk_data...\n",
            "[nltk_data]   Package stopwords is already up-to-date!\n"
          ]
        }
      ]
    },
    {
      "cell_type": "code",
      "source": [
        "# Step 2: Feature Engineering with TF-IDF\n",
        "# We'll use TF-IDF vectorization for feature extraction.\n",
        "from sklearn.feature_extraction.text import TfidfVectorizer\n",
        "from sklearn.preprocessing import LabelEncoder\n",
        "\n",
        "# Convert documents to strings\n",
        "texts = [\" \".join(words) for words, category in processed_documents]\n",
        "labels=[category for words, category in processed_documents]\n",
        "# Convert documents to strings\n",
        "vectorize=TfidfVectorizer(max_features=5000)\n",
        "X=vectorize.fit_transform(texts)\n",
        "\n",
        "# Encode labels\n",
        "from sklearn.preprocessing import LabelEncoder\n",
        "encoder = LabelEncoder()\n",
        "y = encoder.fit_transform(labels)\n"
      ],
      "metadata": {
        "id": "a4fUCEfC95R6"
      },
      "execution_count": 25,
      "outputs": []
    },
    {
      "cell_type": "code",
      "source": [
        "from sklearn.model_selection import train_test_split\n",
        "X_train, X_test, y_train, y_test = train_test_split(X, y, test_size=0.2, random_state=42)"
      ],
      "metadata": {
        "id": "0uPH9qP0Bzop"
      },
      "execution_count": 26,
      "outputs": []
    },
    {
      "cell_type": "markdown",
      "source": [
        "**4. Model Selection:**\n",
        "We'll use multiple machine learning models and compare performance:\n",
        "\n",
        "**Logistic Regression:**\n",
        "1.   Naive Bayes\n",
        "2.   Support Vector Machine (SVM)\n",
        "3.  Random Forest"
      ],
      "metadata": {
        "id": "_GLPtqT0B82p"
      }
    },
    {
      "cell_type": "code",
      "source": [
        "from sklearn.linear_model import LogisticRegression\n",
        "from sklearn.naive_bayes import MultinomialNB\n",
        "from sklearn.svm import SVC\n",
        "from sklearn.ensemble import RandomForestClassifier\n",
        "from sklearn.metrics import accuracy_score, classification_report\n",
        "\n",
        "model_lr = LogisticRegression()\n",
        "model_nb = MultinomialNB()\n",
        "model_svm = SVC()\n",
        "model_rf = RandomForestClassifier()\n",
        "\n",
        "models = [model_lr, model_nb, model_svm, model_rf]"
      ],
      "metadata": {
        "id": "5RwLjBUzB4GL"
      },
      "execution_count": 27,
      "outputs": []
    },
    {
      "cell_type": "code",
      "source": [
        "#Model evaluation\n",
        "for model in models:\n",
        "  model.fit(X_train, y_train)\n",
        "  y_pred = model.predict(X_test)\n",
        "  accuracy = accuracy_score(y_test, y_pred)\n",
        "  print(f\"Accuracy of {model}: {accuracy}\")\n",
        "  print(f\"Classification Report of {model}: {classification_report(y_test, y_pred)}\")"
      ],
      "metadata": {
        "colab": {
          "base_uri": "https://localhost:8080/"
        },
        "id": "HTcIDSljCnV0",
        "outputId": "a9aadb52-5569-4a6e-db94-b97a1d694aec"
      },
      "execution_count": 29,
      "outputs": [
        {
          "output_type": "stream",
          "name": "stdout",
          "text": [
            "Accuracy of LogisticRegression(): 0.865\n",
            "Classification Report of LogisticRegression():               precision    recall  f1-score   support\n",
            "\n",
            "           0       0.84      0.89      0.86       189\n",
            "           1       0.89      0.84      0.87       211\n",
            "\n",
            "    accuracy                           0.86       400\n",
            "   macro avg       0.87      0.87      0.86       400\n",
            "weighted avg       0.87      0.86      0.87       400\n",
            "\n",
            "Accuracy of MultinomialNB(): 0.8175\n",
            "Classification Report of MultinomialNB():               precision    recall  f1-score   support\n",
            "\n",
            "           0       0.76      0.89      0.82       189\n",
            "           1       0.88      0.75      0.81       211\n",
            "\n",
            "    accuracy                           0.82       400\n",
            "   macro avg       0.82      0.82      0.82       400\n",
            "weighted avg       0.83      0.82      0.82       400\n",
            "\n",
            "Accuracy of SVC(): 0.8575\n",
            "Classification Report of SVC():               precision    recall  f1-score   support\n",
            "\n",
            "           0       0.82      0.89      0.86       189\n",
            "           1       0.90      0.82      0.86       211\n",
            "\n",
            "    accuracy                           0.86       400\n",
            "   macro avg       0.86      0.86      0.86       400\n",
            "weighted avg       0.86      0.86      0.86       400\n",
            "\n",
            "Accuracy of RandomForestClassifier(): 0.785\n",
            "Classification Report of RandomForestClassifier():               precision    recall  f1-score   support\n",
            "\n",
            "           0       0.72      0.90      0.80       189\n",
            "           1       0.88      0.68      0.77       211\n",
            "\n",
            "    accuracy                           0.79       400\n",
            "   macro avg       0.80      0.79      0.78       400\n",
            "weighted avg       0.80      0.79      0.78       400\n",
            "\n"
          ]
        }
      ]
    },
    {
      "cell_type": "code",
      "source": [
        "#Classify movie reviews as either positive or negative based on their text content.\n",
        "def classify_movie_review(review_text):\n",
        "  \"\"\"Classifies a movie review as positive or negative.\n",
        "\n",
        "    Args:\n",
        "        review_text: The text content of the movie review.\n",
        "\n",
        "    Returns:\n",
        "        'positive' or 'negative', indicating the predicted sentiment.\n",
        "    \"\"\"\n",
        "\n",
        "  # 1. Preprocess the review text\n",
        "  processed_review = preprocessing(review_text.split())\n",
        "\n",
        "  # 2. Vectorize using TF-IDF\n",
        "  review_vector = vectorize.transform([\" \".join(processed_review)])\n",
        "\n",
        "  # 3. Predict using the chosen model (e.g., Logistic Regression)\n",
        "  prediction = model_svm.predict(review_vector)[0]\n",
        "\n",
        "  # 4. Decode the prediction\n",
        "  sentiment = encoder.inverse_transform([prediction])[0]\n",
        "\n",
        "  return sentiment\n",
        "\n",
        "# Example usage:\n",
        "review = \"An outstanding film with a gripping storyline and phenomenal performances! The direction was top-notch, and every scene kept me engaged.\"\n",
        "predicted_sentiment = classify_movie_review(review)\n",
        "print(f\"Predicted sentiment: {predicted_sentiment}\")"
      ],
      "metadata": {
        "colab": {
          "base_uri": "https://localhost:8080/"
        },
        "id": "LOjQa434C3O0",
        "outputId": "a1bf5ba1-240d-44d8-998a-9024994e6d83"
      },
      "execution_count": 31,
      "outputs": [
        {
          "output_type": "stream",
          "name": "stdout",
          "text": [
            "Predicted sentiment: pos\n"
          ]
        }
      ]
    }
  ]
}