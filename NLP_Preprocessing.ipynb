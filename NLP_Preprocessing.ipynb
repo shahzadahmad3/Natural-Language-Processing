{
  "nbformat": 4,
  "nbformat_minor": 0,
  "metadata": {
    "colab": {
      "provenance": []
    },
    "kernelspec": {
      "name": "python3",
      "display_name": "Python 3"
    },
    "language_info": {
      "name": "python"
    }
  },
  "cells": [
    {
      "cell_type": "code",
      "source": [
        "# Import necessary libraries for Natural Language Processing (NLP) tasks\n",
        "import nltk\n",
        "import re\n",
        "from nltk.corpus import stopwords\n",
        "from nltk.stem import WordNetLemmatizer, PorterStemmer\n",
        "from nltk.tokenize import word_tokenize\n",
        "from bs4 import BeautifulSoup  # For removing HTML tags\n",
        "from spellchecker import SpellChecker  # For spelling correction"
      ],
      "metadata": {
        "id": "JIqO83DXA0ch"
      },
      "execution_count": null,
      "outputs": []
    },
    {
      "cell_type": "code",
      "source": [
        "# Download required NLTK resources\n",
        "nltk.download('punkt')  # For tokenization\n",
        "nltk.download('stopwords')  # For stop word removal\n",
        "nltk.download('wordnet')  # For lemmatization"
      ],
      "metadata": {
        "colab": {
          "base_uri": "https://localhost:8080/"
        },
        "id": "KtQQ_OMJAVYw",
        "outputId": "8bf660cc-2271-4587-cbf3-33bf7a2f2987"
      },
      "execution_count": null,
      "outputs": [
        {
          "output_type": "stream",
          "name": "stderr",
          "text": [
            "[nltk_data] Downloading package punkt to /root/nltk_data...\n",
            "[nltk_data]   Package punkt is already up-to-date!\n",
            "[nltk_data] Downloading package stopwords to /root/nltk_data...\n",
            "[nltk_data]   Package stopwords is already up-to-date!\n",
            "[nltk_data] Downloading package wordnet to /root/nltk_data...\n",
            "[nltk_data]   Package wordnet is already up-to-date!\n"
          ]
        },
        {
          "output_type": "execute_result",
          "data": {
            "text/plain": [
              "True"
            ]
          },
          "metadata": {},
          "execution_count": 24
        }
      ]
    },
    {
      "cell_type": "code",
      "source": [
        "# Input Text\n",
        "# Purpose: Define the text data for analysis\n",
        "text=\"\"\"Dr. Sir Allama Muhammad Iqbal (9 November 1877 – 21 April 1938) was a Muslim poet, philosopher, political thinker, and politician from Punjab, British India (now\n",
        "Pakistan), whose poetry in Urdu and Persian is considered to be among the greatest of the modern era, whose vision of an independent state for the Muslims of British\n",
        "India was to inspire the creation of Pakistan, and who is thus revered by Pakistanis and recognized internationally as Pakistan’s spiritual father of the nation.\n",
        "Iqbal was born in Sialkot, now in Pakistan’s Punjab province. His father, Sheikh Noor Muhammad, was a tailor by profession and a pious individual with a mystic bent – he\n",
        "had received no formal education but could read Urdu and Persian books and treasured the company of scholars and mystics, some of whom called him an\n",
        "“unlettered philosopher”. Iqbal’s mother, Imam Bibi, was illiterate but was highly respected in the family as a wise and generous woman who quietly gave financial\n",
        "help to the poor and needy and arbitrated in neighbours’ disputes. A few days before the birth of Iqbal, his father had a dream: “I saw a big crowd\n",
        "gathered in a large field. A magnificent coloured bird was flying over our heads and everyone was admiring it and trying to catch it, but no one succeeded, and, at last, it\n",
        "got tired of its flight and fell into my lap.” He understood this to be a message that God was about to bless him with a world-famous son. Hence, the “unlettered\n",
        "philosopher” gave his son the name Muhammad Iqbal – the word Iqbal, whose origins lie in the Arabic language, means recognition, stature, respect, and fortune.\n",
        "About four hundred years before Iqbal’s birth, his Brahmin ancestors, who lived in Kashmir (Northern India), had converted to Islam. In the late eighteenth or early\n",
        "nineteenth century, when Afghan rule in Kashmir was being replaced by Sikh rule, Iqbal’s great grandfather emigrated from Kashmir to Sialkot. \"\"\""
      ],
      "metadata": {
        "id": "Ti4tqFuIpQN3"
      },
      "execution_count": null,
      "outputs": []
    },
    {
      "cell_type": "code",
      "source": [
        "def preprocess_text(text):\n",
        "    \"\"\"\n",
        "    Preprocesses text data by applying cleaning and normalization steps.\n",
        "\n",
        "    Args:\n",
        "        text (str): The input text to be preprocessed.\n",
        "\n",
        "    Returns:\n",
        "        list: A list of preprocessed tokens.\n",
        "    \"\"\"\n",
        "    # 1. Convert to lowercase\n",
        "    text = text.lower()\n",
        "\n",
        "    # 2. Remove punctuation\n",
        "    text = re.sub(r'[^\\w\\s]', '', text)\n",
        "\n",
        "    # 3. Remove HTML tags (if any)\n",
        "    soup = BeautifulSoup(text, 'html.parser')\n",
        "    text = soup.get_text()\n",
        "\n",
        "    # 4. Tokenize into words\n",
        "    tokens = word_tokenize(text)\n",
        "\n",
        "    # 5. Remove stop words\n",
        "    stop_words = set(stopwords.words('english'))\n",
        "    tokens = [word for word in tokens if word not in stop_words]\n",
        "\n",
        "    # 6. Perform stemming (using PorterStemmer)\n",
        "    stemmer = PorterStemmer()\n",
        "    tokens = [stemmer.stem(word) for word in tokens]\n",
        "\n",
        "    # 7. Perform lemmatization (using WordNetLemmatizer)\n",
        "    lemmatizer = WordNetLemmatizer()\n",
        "    tokens = [lemmatizer.lemmatize(word) for word in tokens]\n",
        "\n",
        "    # 8. Spelling correction (using SpellChecker)\n",
        "    spell = SpellChecker()\n",
        "    tokens = [spell.correction(word) for word in tokens]\n",
        "\n",
        "    return tokens"
      ],
      "metadata": {
        "id": "e3zoMPW6rc2B"
      },
      "execution_count": null,
      "outputs": []
    },
    {
      "cell_type": "code",
      "source": [
        "processed_tokens = preprocess_text(text)\n",
        "print(processed_tokens)"
      ],
      "metadata": {
        "colab": {
          "base_uri": "https://localhost:8080/"
        },
        "id": "YoXU1zqNuetW",
        "outputId": "2168c0e1-a2f7-4b59-8357-0bf7d4105f56"
      },
      "execution_count": null,
      "outputs": [
        {
          "output_type": "stream",
          "name": "stdout",
          "text": [
            "['do', 'sir', 'llama', None, 'equal', '9', 'novel', '1877', '21', 'aril', '1938', 'muslin', 'poet', 'philosophy', 'polite', 'thinker', 'politician', 'unjam', 'brutish', 'india', 'pakistan', 'whose', 'poetry', 'rude', 'person', 'conoid', 'among', 'greatest', 'modern', 'era', 'whose', 'vision', 'indeed', 'state', 'muslin', 'brutish', 'india', 'inspire', 'creation', 'pakistan', 'the', 'never', 'pakistan', 'recon', 'intern', 'pakistan', 'spirit', 'father', 'nation', 'equal', 'born', 'shallot', 'pakistan', 'unjam', 'proving', 'father', 'sheikh', 'door', None, 'tailor', 'profess', 'pious', 'individual', 'mystic', 'bent', 'receive', 'formal', 'educe', 'could', 'read', 'rude', 'person', 'book', 'treasure', 'company', 'scholar', 'mystic', 'call', 'unless', 'philosophy', 'equal', 'mother', 'imam', 'bib', 'liter', 'highly', 'respect', 'family', 'wise', 'gene', 'woman', 'quietly', 'gave', 'finance', 'help', 'poor', 'need', 'arbiter', 'neighbor', 'dispute', 'day', 'birth', 'equal', 'father', 'dream', 'saw', 'big', 'crowd', 'gather', 'large', 'field', 'magnific', 'color', 'bird', 'fly', 'head', 'everyone', 'admit', 'try', 'catch', 'one', 'succeed', 'last', 'got', 'tire', 'flight', 'fell', 'lap', 'understood', 'message', 'god', 'bless', None, 'son', 'hence', 'unless', 'philosophy', 'gave', 'son', 'name', None, 'equal', 'word', 'equal', 'whose', 'origin', 'lie', 'arab', 'language', 'mean', 'recognize', 'status', 'respect', 'fortune', 'four', 'under', 'year', 'equal', 'birth', 'brain', 'ancestor', 'live', 'kashmir', 'northern', 'india', 'convert', 'slam', 'late', 'eighteenth', 'early', 'nineteenth', 'century', 'afghan', 'rule', 'kashmir', 'replace', 'sigh', 'rule', 'equal', 'great', 'grandfather', 'emir', 'kashmir', 'shallot']\n"
          ]
        }
      ]
    }
  ]
}