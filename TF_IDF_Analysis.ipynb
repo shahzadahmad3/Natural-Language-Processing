{
  "cells": [
    {
      "cell_type": "markdown",
      "source": [
        "**Text Preprocessing and TF-IDF Analysis:**\n",
        "The main objective is to analyze a text about Allama Muhammad Iqbal, focusing on preprocessing techniques (cleaning, normalization) and applying TF-IDF to extract significant words."
      ],
      "metadata": {
        "id": "fW_hblDrRNeQ"
      }
    },
    {
      "cell_type": "code",
      "execution_count": 1,
      "metadata": {
        "colab": {
          "base_uri": "https://localhost:8080/"
        },
        "id": "JjozUZWy95aT",
        "outputId": "49e2ec6c-2549-4a2e-9837-7c4ebec75b53"
      },
      "outputs": [
        {
          "output_type": "stream",
          "name": "stdout",
          "text": [
            "Collecting pyspellchecker\n",
            "  Downloading pyspellchecker-0.8.1-py3-none-any.whl.metadata (9.4 kB)\n",
            "Downloading pyspellchecker-0.8.1-py3-none-any.whl (6.8 MB)\n",
            "\u001b[2K   \u001b[90m━━━━━━━━━━━━━━━━━━━━━━━━━━━━━━━━━━━━━━━━\u001b[0m \u001b[32m6.8/6.8 MB\u001b[0m \u001b[31m42.7 MB/s\u001b[0m eta \u001b[36m0:00:00\u001b[0m\n",
            "\u001b[?25hInstalling collected packages: pyspellchecker\n",
            "Successfully installed pyspellchecker-0.8.1\n"
          ]
        }
      ],
      "source": [
        "pip install pyspellchecker"
      ]
    },
    {
      "cell_type": "code",
      "execution_count": 2,
      "metadata": {
        "id": "JIqO83DXA0ch"
      },
      "outputs": [],
      "source": [
        "# Import necessary libraries for Natural Language Processing (NLP) tasks\n",
        "import nltk\n",
        "import re\n",
        "from nltk.corpus import stopwords\n",
        "from nltk.stem import WordNetLemmatizer, PorterStemmer\n",
        "from nltk.tokenize import word_tokenize\n",
        "from bs4 import BeautifulSoup  # For removing HTML tags\n",
        "from spellchecker import SpellChecker  # For spelling correction\n",
        "from sklearn.feature_extraction.text import TfidfVectorizer  # For TF-IDF vectorization"
      ]
    },
    {
      "cell_type": "code",
      "execution_count": 3,
      "metadata": {
        "colab": {
          "base_uri": "https://localhost:8080/"
        },
        "id": "KtQQ_OMJAVYw",
        "outputId": "470608d9-9cb3-48eb-a1fb-fdaf8032af9a"
      },
      "outputs": [
        {
          "output_type": "stream",
          "name": "stderr",
          "text": [
            "[nltk_data] Downloading package punkt to /root/nltk_data...\n",
            "[nltk_data]   Unzipping tokenizers/punkt.zip.\n",
            "[nltk_data] Downloading package punkt_tab to /root/nltk_data...\n",
            "[nltk_data]   Unzipping tokenizers/punkt_tab.zip.\n",
            "[nltk_data] Downloading package stopwords to /root/nltk_data...\n",
            "[nltk_data]   Unzipping corpora/stopwords.zip.\n",
            "[nltk_data] Downloading package wordnet to /root/nltk_data...\n"
          ]
        },
        {
          "output_type": "execute_result",
          "data": {
            "text/plain": [
              "True"
            ]
          },
          "metadata": {},
          "execution_count": 3
        }
      ],
      "source": [
        "# Download required NLTK resources\n",
        "nltk.download('punkt')  # For tokenization\n",
        "nltk.download('punkt_tab')  # For tokenization\n",
        "nltk.download('stopwords')  # For stop word removal\n",
        "nltk.download('wordnet')  # For lemmatization"
      ]
    },
    {
      "cell_type": "code",
      "execution_count": 4,
      "metadata": {
        "id": "Ti4tqFuIpQN3"
      },
      "outputs": [],
      "source": [
        "# Input Text\n",
        "# Purpose: Define the text data for analysis\n",
        "text=\"\"\"Dr. Sir Allama Muhammad Iqbal (9 November 1877 – 21 April 1938) was a Muslim poet, philosopher, political thinker, and politician from Punjab, British India (now\n",
        "Pakistan), whose poetry in Urdu and Persian is considered to be among the greatest of the modern era, whose vision of an independent state for the Muslims of British\n",
        "India was to inspire the creation of Pakistan, and who is thus revered by Pakistanis and recognized internationally as Pakistan’s spiritual father of the nation.\n",
        "Iqbal was born in Sialkot, now in Pakistan’s Punjab province. His father, Sheikh Noor Muhammad, was a tailor by profession and a pious individual with a mystic bent – he\n",
        "had received no formal education but could read Urdu and Persian books and treasured the company of scholars and mystics, some of whom called him an\n",
        "“unlettered philosopher”. Iqbal’s mother, Imam Bibi, was illiterate but was highly respected in the family as a wise and generous woman who quietly gave financial\n",
        "help to the poor and needy and arbitrated in neighbours’ disputes. A few days before the birth of Iqbal, his father had a dream: “I saw a big crowd\n",
        "gathered in a large field. A magnificent coloured bird was flying over our heads and everyone was admiring it and trying to catch it, but no one succeeded, and, at last, it\n",
        "got tired of its flight and fell into my lap.” He understood this to be a message that God was about to bless him with a world-famous son. Hence, the “unlettered\n",
        "philosopher” gave his son the name Muhammad Iqbal – the word Iqbal, whose origins lie in the Arabic language, means recognition, stature, respect, and fortune.\n",
        "About four hundred years before Iqbal’s birth, his Brahmin ancestors, who lived in Kashmir (Northern India), had converted to Islam. In the late eighteenth or early\n",
        "nineteenth century, when Afghan rule in Kashmir was being replaced by Sikh rule, Iqbal’s great grandfather emigrated from Kashmir to Sialkot. \"\"\""
      ]
    },
    {
      "cell_type": "code",
      "execution_count": 5,
      "metadata": {
        "id": "e3zoMPW6rc2B"
      },
      "outputs": [],
      "source": [
        "def preprocess_text(text):\n",
        "    \"\"\"\n",
        "    Preprocesses text data by applying cleaning and normalization steps.\n",
        "\n",
        "    Args:\n",
        "        text (str): The input text to be preprocessed.\n",
        "\n",
        "    Returns:\n",
        "        list: A list of preprocessed tokens.\n",
        "    \"\"\"\n",
        "    # 1. Convert to lowercase\n",
        "    text = text.lower()\n",
        "\n",
        "    # 2. Remove punctuation\n",
        "    text = re.sub(r'[^\\w\\s]', '', text)\n",
        "\n",
        "    # 3. Remove HTML tags (if any)\n",
        "    soup = BeautifulSoup(text, 'html.parser')\n",
        "    text = soup.get_text()\n",
        "\n",
        "    # 4. Tokenize into words\n",
        "    tokens = word_tokenize(text)\n",
        "\n",
        "    # 5. Remove stop words\n",
        "    stop_words = set(stopwords.words('english'))\n",
        "    tokens = [word for word in tokens if word not in stop_words]\n",
        "\n",
        "    # 6. Perform stemming (using PorterStemmer)\n",
        "    stemmer = PorterStemmer()\n",
        "    tokens = [stemmer.stem(word) for word in tokens]\n",
        "\n",
        "    # 7. Perform lemmatization (using WordNetLemmatizer)\n",
        "    lemmatizer = WordNetLemmatizer()\n",
        "    tokens = [lemmatizer.lemmatize(word) for word in tokens]\n",
        "\n",
        "    # 8. Spelling correction (using SpellChecker)\n",
        "    spell = SpellChecker()\n",
        "    tokens = [spell.correction(word) or word for word in tokens]  # Replace None with the original word\n",
        "\n",
        "\n",
        "    return tokens"
      ]
    },
    {
      "cell_type": "code",
      "execution_count": 6,
      "metadata": {
        "id": "YoXU1zqNuetW",
        "colab": {
          "base_uri": "https://localhost:8080/"
        },
        "outputId": "ae2ceeb2-b236-44a7-824c-0f3cec691ed5"
      },
      "outputs": [
        {
          "output_type": "execute_result",
          "data": {
            "text/plain": [
              "['do',\n",
              " 'sir',\n",
              " 'llama',\n",
              " 'muhammad',\n",
              " 'equal',\n",
              " '9',\n",
              " 'novel',\n",
              " '1877',\n",
              " '21',\n",
              " 'aril',\n",
              " '1938',\n",
              " 'muslin',\n",
              " 'poet',\n",
              " 'philosophy',\n",
              " 'polite',\n",
              " 'thinker',\n",
              " 'politician',\n",
              " 'unjam',\n",
              " 'brutish',\n",
              " 'india',\n",
              " 'pakistan',\n",
              " 'whose',\n",
              " 'poetry',\n",
              " 'rude',\n",
              " 'person',\n",
              " 'conoid',\n",
              " 'among',\n",
              " 'greatest',\n",
              " 'modern',\n",
              " 'era',\n",
              " 'whose',\n",
              " 'vision',\n",
              " 'indeed',\n",
              " 'state',\n",
              " 'muslin',\n",
              " 'brutish',\n",
              " 'india',\n",
              " 'inspire',\n",
              " 'creation',\n",
              " 'pakistan',\n",
              " 'the',\n",
              " 'never',\n",
              " 'pakistan',\n",
              " 'recon',\n",
              " 'intern',\n",
              " 'pakistan',\n",
              " 'spirit',\n",
              " 'father',\n",
              " 'nation',\n",
              " 'equal',\n",
              " 'born',\n",
              " 'shallot',\n",
              " 'pakistan',\n",
              " 'unjam',\n",
              " 'proving',\n",
              " 'father',\n",
              " 'sheikh',\n",
              " 'door',\n",
              " 'muhammad',\n",
              " 'tailor',\n",
              " 'profess',\n",
              " 'pious',\n",
              " 'individual',\n",
              " 'mystic',\n",
              " 'bent',\n",
              " 'receive',\n",
              " 'formal',\n",
              " 'educe',\n",
              " 'could',\n",
              " 'read',\n",
              " 'rude',\n",
              " 'person',\n",
              " 'book',\n",
              " 'treasure',\n",
              " 'company',\n",
              " 'scholar',\n",
              " 'mystic',\n",
              " 'call',\n",
              " 'unless',\n",
              " 'philosophy',\n",
              " 'equal',\n",
              " 'mother',\n",
              " 'imam',\n",
              " 'bib',\n",
              " 'liter',\n",
              " 'highly',\n",
              " 'respect',\n",
              " 'family',\n",
              " 'wise',\n",
              " 'gene',\n",
              " 'woman',\n",
              " 'quietly',\n",
              " 'gave',\n",
              " 'finance',\n",
              " 'help',\n",
              " 'poor',\n",
              " 'need',\n",
              " 'arbiter',\n",
              " 'neighbor',\n",
              " 'dispute',\n",
              " 'day',\n",
              " 'birth',\n",
              " 'equal',\n",
              " 'father',\n",
              " 'dream',\n",
              " 'saw',\n",
              " 'big',\n",
              " 'crowd',\n",
              " 'gather',\n",
              " 'large',\n",
              " 'field',\n",
              " 'magnific',\n",
              " 'color',\n",
              " 'bird',\n",
              " 'fly',\n",
              " 'head',\n",
              " 'everyone',\n",
              " 'admit',\n",
              " 'try',\n",
              " 'catch',\n",
              " 'one',\n",
              " 'succeed',\n",
              " 'last',\n",
              " 'got',\n",
              " 'tire',\n",
              " 'flight',\n",
              " 'fell',\n",
              " 'lap',\n",
              " 'understood',\n",
              " 'message',\n",
              " 'god',\n",
              " 'bless',\n",
              " 'worldfam',\n",
              " 'son',\n",
              " 'hence',\n",
              " 'unless',\n",
              " 'philosophy',\n",
              " 'gave',\n",
              " 'son',\n",
              " 'name',\n",
              " 'muhammad',\n",
              " 'equal',\n",
              " 'word',\n",
              " 'equal',\n",
              " 'whose',\n",
              " 'origin',\n",
              " 'lie',\n",
              " 'arab',\n",
              " 'language',\n",
              " 'mean',\n",
              " 'recognize',\n",
              " 'status',\n",
              " 'respect',\n",
              " 'fortune',\n",
              " 'four',\n",
              " 'under',\n",
              " 'year',\n",
              " 'equal',\n",
              " 'birth',\n",
              " 'brain',\n",
              " 'ancestor',\n",
              " 'live',\n",
              " 'kashmir',\n",
              " 'northern',\n",
              " 'india',\n",
              " 'convert',\n",
              " 'slam',\n",
              " 'late',\n",
              " 'eighteenth',\n",
              " 'early',\n",
              " 'nineteenth',\n",
              " 'century',\n",
              " 'afghan',\n",
              " 'rule',\n",
              " 'kashmir',\n",
              " 'replace',\n",
              " 'sigh',\n",
              " 'rule',\n",
              " 'equal',\n",
              " 'great',\n",
              " 'grandfather',\n",
              " 'emir',\n",
              " 'kashmir',\n",
              " 'shallot']"
            ]
          },
          "metadata": {},
          "execution_count": 6
        }
      ],
      "source": [
        "processed_tokens = preprocess_text(text)\n",
        "processed_tokens"
      ]
    },
    {
      "cell_type": "markdown",
      "source": [
        "**TF-IDF (Term Frequency-Inverse Document Frequency**) is a numerical statistic that reflects the importance of a word in a document relative to a collection of documents (corpus). It's widely used in information retrieval and text mining."
      ],
      "metadata": {
        "id": "iNy_GwrgP6GG"
      }
    },
    {
      "cell_type": "code",
      "execution_count": 10,
      "metadata": {
        "colab": {
          "base_uri": "https://localhost:8080/"
        },
        "id": "Og5xAmiY9b_Q",
        "outputId": "2fb42c7c-2d92-4327-efd5-a71b53e13075"
      },
      "outputs": [
        {
          "output_type": "execute_result",
          "data": {
            "text/plain": [
              "<1x147 sparse matrix of type '<class 'numpy.float64'>'\n",
              "\twith 147 stored elements in Compressed Sparse Row format>"
            ]
          },
          "metadata": {},
          "execution_count": 10
        }
      ],
      "source": [
        "# Create a TfidfVectorizer object\n",
        "vectorizer = TfidfVectorizer()\n",
        "\n",
        "# Join the preprocessed tokens into a single string\n",
        "text_for_tfidf = ' '.join(processed_tokens)\n",
        "\n",
        "# Fit and transform the text\n",
        "tfidf_matrix = vectorizer.fit_transform([text_for_tfidf])  # Pass as a list with a single string element\n",
        "tfidf_matrix"
      ]
    },
    {
      "cell_type": "code",
      "source": [
        "# Get feature names (words)\n",
        "feature_names = vectorizer.get_feature_names_out()\n",
        "feature_names"
      ],
      "metadata": {
        "colab": {
          "base_uri": "https://localhost:8080/"
        },
        "id": "yQRBd5GFQEpE",
        "outputId": "c185229a-17a7-4817-d957-0394e4e27a13"
      },
      "execution_count": 8,
      "outputs": [
        {
          "output_type": "execute_result",
          "data": {
            "text/plain": [
              "array(['1877', '1938', '21', 'admit', 'afghan', 'among', 'ancestor',\n",
              "       'arab', 'arbiter', 'aril', 'bent', 'bib', 'big', 'bird', 'birth',\n",
              "       'bless', 'book', 'born', 'brain', 'brutish', 'call', 'catch',\n",
              "       'century', 'color', 'company', 'conoid', 'convert', 'could',\n",
              "       'creation', 'crowd', 'day', 'dispute', 'do', 'door', 'dream',\n",
              "       'early', 'educe', 'eighteenth', 'emir', 'equal', 'era', 'everyone',\n",
              "       'family', 'father', 'fell', 'field', 'finance', 'flight', 'fly',\n",
              "       'formal', 'fortune', 'four', 'gather', 'gave', 'gene', 'god',\n",
              "       'got', 'grandfather', 'great', 'greatest', 'head', 'help', 'hence',\n",
              "       'highly', 'imam', 'indeed', 'india', 'individual', 'inspire',\n",
              "       'intern', 'kashmir', 'language', 'lap', 'large', 'last', 'late',\n",
              "       'lie', 'liter', 'live', 'llama', 'magnific', 'mean', 'message',\n",
              "       'modern', 'mother', 'muhammad', 'muslin', 'mystic', 'name',\n",
              "       'nation', 'need', 'neighbor', 'never', 'nineteenth', 'northern',\n",
              "       'novel', 'one', 'origin', 'pakistan', 'person', 'philosophy',\n",
              "       'pious', 'poet', 'poetry', 'polite', 'politician', 'poor',\n",
              "       'profess', 'proving', 'quietly', 'read', 'receive', 'recognize',\n",
              "       'recon', 'replace', 'respect', 'rude', 'rule', 'saw', 'scholar',\n",
              "       'shallot', 'sheikh', 'sigh', 'sir', 'slam', 'son', 'spirit',\n",
              "       'state', 'status', 'succeed', 'tailor', 'the', 'thinker', 'tire',\n",
              "       'treasure', 'try', 'under', 'understood', 'unjam', 'unless',\n",
              "       'vision', 'whose', 'wise', 'woman', 'word', 'worldfam', 'year'],\n",
              "      dtype=object)"
            ]
          },
          "metadata": {},
          "execution_count": 8
        }
      ]
    },
    {
      "cell_type": "code",
      "source": [
        "# Access and analyze TF-IDF values\n",
        "# For example, to print the top 10 words with highest TF-IDF scores:\n",
        "top_n = 10\n",
        "for i in range(top_n):\n",
        "    index = tfidf_matrix[0].toarray().argsort()[0, -i - 1]\n",
        "    print(f\"{feature_names[index]}: {tfidf_matrix[0, index]:.4f}\")"
      ],
      "metadata": {
        "colab": {
          "base_uri": "https://localhost:8080/"
        },
        "id": "VSRlmd-bQNPr",
        "outputId": "5b8df10f-c1ad-4f7a-cadb-c10c675b28bf"
      },
      "execution_count": 9,
      "outputs": [
        {
          "output_type": "stream",
          "name": "stdout",
          "text": [
            "equal: 0.4465\n",
            "pakistan: 0.2791\n",
            "india: 0.1674\n",
            "father: 0.1674\n",
            "whose: 0.1674\n",
            "kashmir: 0.1674\n",
            "philosophy: 0.1674\n",
            "muhammad: 0.1674\n",
            "muslin: 0.1116\n",
            "brutish: 0.1116\n"
          ]
        }
      ]
    }
  ],
  "metadata": {
    "colab": {
      "provenance": []
    },
    "kernelspec": {
      "display_name": "Python 3",
      "name": "python3"
    },
    "language_info": {
      "name": "python"
    }
  },
  "nbformat": 4,
  "nbformat_minor": 0
}